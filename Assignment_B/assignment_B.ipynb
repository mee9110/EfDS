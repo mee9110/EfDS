{
 "cells": [
  {
   "cell_type": "markdown",
   "metadata": {},
   "source": [
    "# Assignment B"
   ]
  },
  {
   "cell_type": "markdown",
   "metadata": {},
   "source": [
    "## Instructions"
   ]
  },
  {
   "cell_type": "markdown",
   "metadata": {},
   "source": [
    "- Download this assignment to the top level directory of your local submission repository. Make sure that the downloaded file is named `assignment_B.ipynb` (**exactly**).\n",
    "- Answer the questions in the provided code cells. Make sure that your code is working and that the cell outputs are correct.\n",
    "- For the last question create a separate Python script file named `rpn.py` (**exactly**) and save it to the top level directory of your submission repository.\n",
    "- Add `assignment_B.ipynb` and `rpn.py` to your git repository and commit the changes. Push the local repository to GitHub.\n",
    "- Double check that:\n",
    "  - Your final changes are visible on GitHub. \n",
    "  - The files are named correctly and are in the top-level directory of your repository.\n",
    "  - The `json` file with your name, email and student id is in the top-level directory of your repository (as described in the general instructions)."
   ]
  },
  {
   "cell_type": "markdown",
   "metadata": {},
   "source": [
    "## Generate random vectors and calculate correlations (6p)"
   ]
  },
  {
   "cell_type": "markdown",
   "metadata": {},
   "source": [
    "In general, two vectors (of the same length and of normally distributed random numbers) should have their Pearson correlation close to zero.  \n",
    "Let's test that.\n",
    "\n",
    "Many times, generate two random vectors of the same size and calculate their correlation. Find the mean and the standard deviation of the correlations.  \n",
    "Repeat the calculation for different sizes of the vectors.  \n",
    "Finally, present the results in a table as shown below (with a header, with numbers rounded, columns separated with `\\t` tabulator).\n",
    "Here is a fragment of a result (to demonstrate the format, the numbers are random):\n",
    "\n",
    "```text\n",
    "vecSize\tmeanCor\tsdCor\n",
    "...\n",
    "20\t0.0075\t0.22274\n",
    "50\t-0.0218\t0.13385\n",
    "100\t0.0062\t0.10085\n",
    "...\n",
    "```\n",
    "\n",
    "Requirements:\n",
    "\n",
    "- Study vector sizes `vecSizes=[10, 20, 50, 100, 200, 500, 1000, 2000, 5000]`.\n",
    "- For each `vecSize` generate `repeatNum=100` pairs of random vectors, and calculate their Pearson correlation.\n",
    "- Use only the functions discussed in the Python base lectures 01-05 (libraries `random` and `statistics` are ok, but no `numpy` nor `pandas`).\n",
    "- Use simple formatted printing (no `pandas` or `tabulate`)."
   ]
  },
  {
   "cell_type": "code",
   "execution_count": null,
   "metadata": {},
   "outputs": [],
   "source": [
    "# ----- SOLUTION START -----\n",
    "# import random\n",
    "# import statistics\n",
    "#\n",
    "# repeatNum = 100\n",
    "# vecSizes = [10, 20, 50, 100, 200, 500, 1000, 2000, 5000]\n",
    "#\n",
    "# ...\n",
    "# ----- SOLUTION END -----"
   ]
  },
  {
   "attachments": {},
   "cell_type": "markdown",
   "metadata": {},
   "source": [
    "## Vector operations (class, math) (13p)"
   ]
  },
  {
   "cell_type": "markdown",
   "metadata": {},
   "source": [
    "Build a class `Vec` which implements several basic operations on a vector in a two dimensional Cartesian coordinate system.  \n",
    "\n",
    "Some methods in the class should have the following meaning:\n",
    "- `x()`, `y()` each should return **a number** representing the respective vector coordinate\n",
    "- `len()` should return **a number**, the length of the vector (based on Euclidean distance)\n",
    "- `deg()` should return **a number**, the angle (expressed in degrees) between the positive x axis and the direction of the vector\n",
    "- `add( v )` should add another vector `v` to `self`; it should return `self` (for chaining)\n",
    "- `mul( n )` should multiply the vector coordinates by a number `n`; it should return `self` (for chaining)\n",
    "- `rotate( deg )` should rotate the `self` vector by `deg` degrees; it should return `self`\n",
    "- `__str__()` or `__repr__()` should return a string representation of the vector in the form similar to `Vec(x=..., y=...; len=..., deg=...)`\n",
    "\n",
    "Please add short docstrings to the class and its methods. Do not repeat code in the methods, use the methods of the class to implement other methods.\n",
    "\n",
    "*Hints:* `math.sin`, `math.cos`, `math.atan2`, `math.sqrt`, `math.pi`.\n",
    "\n",
    "*Note:* Precision of math calculations is limited. You will probably see numbers close to zero instead of `0`."
   ]
  },
  {
   "cell_type": "markdown",
   "metadata": {},
   "source": [
    "The following code is expected to work with your `Vec` class:\n",
    "\n",
    "```python\n",
    "v = Vec(x=2, y=-2)\n",
    "print( \"A1:\", v.x() )     # 2\n",
    "print( \"A2:\", v.y() )     # -2\n",
    "print( \"A3:\", v.len() )   # 2.828 (approx.)\n",
    "print( \"A4:\", v.deg() )   # -45   (representing -45 degrees, check atan2() function)\n",
    "print( \"A5:\", v )\n",
    "\n",
    "offsV = Vec(x=0, y=2)\n",
    "print( \"B:\", offsV )      # should have len==2\n",
    "\n",
    "v.add( offsV )\n",
    "print( \"C:\", v )          # v should point to the right, deg==0\n",
    "\n",
    "v.rotate( deg=90 )\n",
    "print( \"D:\", v )          # v should point up, deg==90\n",
    "\n",
    "v.rotate( deg=180 )\n",
    "print( \"E:\", v )          # v should point down, deg==-90\n",
    "\n",
    "v.rotate(deg=-45).rotate(-45)\n",
    "print( \"F:\", v )          # v should point left, deg==180\n",
    "\n",
    "print( \"G:\", Vec() )      # v should point to the origin (x==0,y==0)\n",
    "\n",
    "v = Vec().add( Vec(x=1,y=0) ).rotate(deg=90).add( Vec(x=0,y=-1) )\n",
    "print( \"H:\", v )          # v should be back at the origin, len==0\n",
    "```\n",
    "\n",
    "Here is the output generated by the reference solution (see the note above about precision):\n",
    "```text\n",
    "A1: 2\n",
    "A2: -2\n",
    "A3: 2.8284271247461903\n",
    "A4: -45.0\n",
    "A5: Vec(x=2, y=-2; len=2.8284271247461903, deg=-45.0)\n",
    "B: Vec(x=0, y=2; len=2.0, deg=90.0)\n",
    "C: Vec(x=2, y=0; len=2.0, deg=0.0)\n",
    "D: Vec(x=1.2246467991473532e-16, y=2.0; len=2.0, deg=90.0)\n",
    "E: Vec(x=-3.6739403974420594e-16, y=-2.0; len=2.0, deg=-90.00000000000001)\n",
    "F: Vec(x=-2.0, y=0.0; len=2.0, deg=180.0)\n",
    "G: Vec(x=0, y=0; len=0.0, deg=0.0)\n",
    "H: Vec(x=6.123233995736766e-17, y=0.0; len=6.123233995736766e-17, deg=0.0)\n",
    "```"
   ]
  },
  {
   "cell_type": "code",
   "execution_count": null,
   "metadata": {
    "tags": [
     "solution_vecclass"
    ]
   },
   "outputs": [],
   "source": [
    "# ----- SOLUTION START -----\n",
    "# import math\n",
    "# \n",
    "# class Vec:\n",
    "#     pass\n",
    "# ----- SOLUTION END -----"
   ]
  },
  {
   "cell_type": "code",
   "execution_count": null,
   "metadata": {},
   "outputs": [],
   "source": [
    "# Use this code to test your class! This code will fail as long as there is no class Vec defined.\n",
    "\n",
    "v = Vec(x=2, y=-2)\n",
    "print( \"A1:\", v.x() )     # 2\n",
    "print( \"A2:\", v.y() )     # -2\n",
    "print( \"A3:\", v.len() )   # 2.828 (approx.)\n",
    "print( \"A4:\", v.deg() )   # -45   (representing -45 degrees, check atan2() function)\n",
    "print( \"A5:\", v )         \n",
    "\n",
    "offsV = Vec(x=0, y=2)\n",
    "print( \"B:\", offsV )      # should have len==2.0, deg==90.0\n",
    "\n",
    "v.add( offsV )\n",
    "print( \"C:\", v )          # v should point to the right, deg==0.0\n",
    "\n",
    "v.rotate( deg=90 )\n",
    "print( \"D:\", v )          # v should point up, deg==90.0\n",
    "\n",
    "v.rotate( deg=180 )\n",
    "print( \"E:\", v )          # v should point down, deg==-90.0\n",
    "\n",
    "v.rotate(deg=-45).rotate(-45)\n",
    "print( \"F:\", v )          # v should point left, deg==180.0\n",
    "\n",
    "print( \"G:\", Vec() )      # v should point to the origin (x==0,y==0)\n",
    "\n",
    "v = Vec().add( Vec(x=1,y=0) ).rotate(deg=90).add( Vec(x=0,y=-1) )\n",
    "print( \"H:\", v )          # v should be back at the origin, len==0"
   ]
  },
  {
   "attachments": {},
   "cell_type": "markdown",
   "metadata": {},
   "source": [
    "## RPN (reverse polish notation) calculator (exceptions, flow control, list, stack) (7p)"
   ]
  },
  {
   "attachments": {},
   "cell_type": "markdown",
   "metadata": {},
   "source": [
    "[Reverse polish notation](https://en.wikipedia.org/wiki/Reverse_Polish_notation) allows to write mathematical expressions without need of `(` and `)`. Consider the examples:\n",
    "\n",
    "| RPN notation tokens | \"Normal\" notation | Result |\n",
    "| ----- | ----- | ----- |\n",
    "| `1`     | `1` | 1 |\n",
    "| `1` `2.5` `+` | `1 + 2.5` | 3.5 |\n",
    "| `1` `2` `3` `*` `+` | `1 + 2 * 3` | 7 |\n",
    "| `1` `2` `3` `*` `+` | `1 + (2*3)` | 7 |\n",
    "| `1` `2` `+` `3` `*` | `(1+2) * 3` | 9 |\n",
    "\n",
    "Before reading further, understand the concept of a [stack](https://en.wikipedia.org/wiki/Stack_(abstract_data_type)).  \n",
    "In RPN each subsequent argument (`token`) is checked:\n",
    "- when it is a number: \n",
    "    - the number is put on the stack (`push`)\n",
    "- when it is an operator (`+` addition, `-` subtraction, `*` multiplication, `/` division):\n",
    "    - two recent numbers are removed from the stack (2*`pop`)\n",
    "    - the calculation specified by the operator is performed\n",
    "    - the result is pushed to the stack (`push`)\n",
    "\n",
    "Write a function `rpn(tokens)` which takes a list of tokens (e.g. `[ 1, 2, \"+\" ]`) and returns a number - the result of the calculation.  \n",
    "There are several errors possible - the function should raise an exception with a message clearly describing the problem (see errors below).\n",
    "\n",
    "Some example calls of the function and their expected effects (other examples will be used for grading):\n",
    "```python\n",
    "print( rpn( [ 1 ] ) )                             # 1\n",
    "print( rpn( [ 1, 2.5, \"+\" ] ) )                   # 3.5 i.e. 1+2.5\n",
    "print( rpn( [ -1, 2, 3, \"+\", \"*\" ] ) )            # -5 i.e. -1*(2+3)\n",
    "print( rpn( [ 5, 7, \"+\", 2, 1, \"+\", \"/\" ] ) )     # 4 i.e. (5+7)/(2+1)\n",
    "# print( rpn( [ 1, \"+\" ] ) )                      # RuntimeError: Not enough arguments for + operator.\n",
    "# print( rpn( [ 1, 2 ] ) )                        # RuntimeError: Not enough operators; too many elements on remained on stack.\n",
    "# print( rpn( [ \"a\" ] ) )                         # ValueError: could not convert string to float: 'a'\n",
    "```\n",
    "\n",
    "*Hint:* Use Python `list` as a stack (methods: `push` is `append(...)`, `pop` is  `pop(-1)`; function `len(...)`)."
   ]
  },
  {
   "cell_type": "code",
   "execution_count": null,
   "metadata": {
    "tags": [
     "solution_rpn"
    ]
   },
   "outputs": [],
   "source": [
    "# ----- SOLUTION START -----\n",
    "# def rpn(tokens):\n",
    "#     pass\n",
    "# ----- SOLUTION END -----"
   ]
  },
  {
   "attachments": {},
   "cell_type": "markdown",
   "metadata": {},
   "source": [
    "## RPN command line script (3p)"
   ]
  },
  {
   "attachments": {},
   "cell_type": "markdown",
   "metadata": {},
   "source": [
    "Based on the previous task, copy the `rpn(tokens)` function to a separate **Python script** `rpn.py` (**not a Python notebook!**).  \n",
    "Adjust the code so that the tokens can be given as command line arguments (note, that now all the tokens will be of type `str`, including the numbers provided by the user; a conversion will be necessary).  \n",
    "Find how to use `if __name__ == \"__main__\":` to call your `rpn` function in a Python script.  \n",
    "\n",
    "Make the following *console/terminal/shell* commands work as shown here:"
   ]
  },
  {
   "attachments": {},
   "cell_type": "markdown",
   "metadata": {},
   "source": [
    "```bash\n",
    "> python3 rpn.py 1\n",
    "1.0\n",
    "> python3 rpn.py 1 2 '+'\n",
    "3.0\n",
    "> python3 rpn.py -1 2 3 '+' '*'\n",
    "-5.0\n",
    "> python3 rpn.py 5 7 '+' 2 1 '+' '/'\n",
    "4.0\n",
    "> python3 rpn.py 1 '+'\n",
    "Traceback (most recent call last):\n",
    "  File \"rpn.py\", line 31, in <module>\n",
    "    print( rpn( sys.argv[1:] ) )\n",
    "  File \"rpn.py\", line 10, in rpn\n",
    "    raise RuntimeError( f\"Not enough arguments for {t} operator.\" )\n",
    "RuntimeError: Not enough arguments for + operator.\n",
    "```"
   ]
  },
  {
   "attachments": {},
   "cell_type": "markdown",
   "metadata": {},
   "source": [
    "Once your `rpn.py` script works, copy it back here before submitting the assignment:"
   ]
  },
  {
   "cell_type": "code",
   "execution_count": null,
   "metadata": {
    "tags": [
     "solution_rpn_py"
    ]
   },
   "outputs": [],
   "source": [
    "# ----- SOLUTION START -----\n",
    "# import ...\n",
    "\n",
    "# def rpn(tokens):\n",
    "#     ...\n",
    "#\n",
    "# if __name__ == \"__main__\":\n",
    "#     ...\n",
    "#\n",
    "# ----- SOLUTION END -----"
   ]
  },
  {
   "attachments": {},
   "cell_type": "markdown",
   "metadata": {},
   "source": [
    "```shell\n",
    "# TEST CODE (for a system console/terminal/shell)\n",
    "python3 rpn.py 1\n",
    "python3 rpn.py 1 2 '+'\n",
    "python3 rpn.py -1 2 3 '+' '*'\n",
    "python3 rpn.py 5 7 '+' 2 1 '+' '/'\n",
    "python3 rpn.py 1 '+'\n",
    "```"
   ]
  }
 ],
 "metadata": {
  "kernelspec": {
   "display_name": "EfDS",
   "language": "python",
   "name": "python3"
  },
  "language_info": {
   "codemirror_mode": {
    "name": "ipython",
    "version": 3
   },
   "file_extension": ".py",
   "mimetype": "text/x-python",
   "name": "python",
   "nbconvert_exporter": "python",
   "pygments_lexer": "ipython3",
   "version": "3.13.1"
  },
  "orig_nbformat": 4
 },
 "nbformat": 4,
 "nbformat_minor": 2
}
